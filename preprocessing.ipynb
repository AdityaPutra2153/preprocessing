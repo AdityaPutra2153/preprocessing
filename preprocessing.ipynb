{
 "cells": [
  {
   "cell_type": "markdown",
   "id": "58c0f571",
   "metadata": {},
   "source": [
    "## Identitas Diri\n",
    "Nama : Aditya Herdiansyah Putra  \n",
    "NIM  : A11.2021.13948"
   ]
  },
  {
   "cell_type": "markdown",
   "id": "41529846",
   "metadata": {},
   "source": [
    "## 1. Menambahkan library\n",
    " \"numpy\" berguna memudahkan kita melakukan perhitungan saintifik seperti matriks, aljabar, statistik, dan sebagainya.    \n",
    " \"matpotlib.pyplot\" berguna untuk memvisualisaikan data melalui grafik atau diagram      \n",
    " \"pandas\" berguna untuk memproses data, mulai pembersihan data, manipulasi data, hingga melakukan analisis data."
   ]
  },
  {
   "cell_type": "code",
   "execution_count": 1,
   "id": "7c72dda5",
   "metadata": {},
   "outputs": [],
   "source": [
    "import numpy as np\n",
    "import matplotlib.pyplot as plt\n",
    "import pandas as pd"
   ]
  },
  {
   "cell_type": "markdown",
   "id": "1ca7ccd9",
   "metadata": {},
   "source": [
    "# 2. Import dataset\n",
    "Memuat dataset dan kemudian menampilkan data tersebut agar bisa diproses"
   ]
  },
  {
   "cell_type": "code",
   "execution_count": 2,
   "id": "6bd1b8b6",
   "metadata": {},
   "outputs": [],
   "source": [
    "data = pd.read_csv(\"Flipkart.csv\")\n",
    "x = data.iloc[:, :-1].values\n",
    "y = data.iloc[:, -1].values"
   ]
  },
  {
   "cell_type": "code",
   "execution_count": 3,
   "id": "0190adc4",
   "metadata": {},
   "outputs": [
    {
     "name": "stdout",
     "output_type": "stream",
     "text": [
      "[['OPPO' 'A53' 'Moonlight Black' ... '64 GB' 4.5 11990]\n",
      " ['OPPO' 'A53' 'Mint Cream' ... '64 GB' 4.5 11990]\n",
      " ['OPPO' 'A53' 'Moonlight Black' ... '128 GB' 4.3 13990]\n",
      " ...\n",
      " ['SAMSUNG' 'M52 5G' 'Icy Blue' ... '128 GB' 4.3 27239]\n",
      " ['SAMSUNG' 'M52 5G' 'Slate Black' ... '128 GB' 4.2 22989]\n",
      " ['SAMSUNG' 'M52 5G' 'Sky Blue' ... '128 GB' 4.2 20350]]\n"
     ]
    }
   ],
   "source": [
    "print(x)"
   ]
  },
  {
   "cell_type": "code",
   "execution_count": 4,
   "id": "541ebf1d",
   "metadata": {},
   "outputs": [
    {
     "name": "stdout",
     "output_type": "stream",
     "text": [
      "[15990 15990 17990 ... 31489 22989 22595]\n"
     ]
    }
   ],
   "source": [
    "print(y)"
   ]
  },
  {
   "cell_type": "markdown",
   "id": "00c85542",
   "metadata": {},
   "source": [
    "# 3. Menampilkan atribut yang memiliki missing values\n",
    "Menampilkan atribut yang memiliki missing values di dalamnya agar kita dapat mengetahui atribut mana yang perlu kita perbaiki.\n"
   ]
  },
  {
   "cell_type": "code",
   "execution_count": 6,
   "id": "9e5ded8e",
   "metadata": {},
   "outputs": [
    {
     "data": {
      "text/plain": [
       "Brand               0\n",
       "Model               0\n",
       "Color               0\n",
       "Memory             43\n",
       "Storage            39\n",
       "Rating            144\n",
       "Selling Price       0\n",
       "Original Price      0\n",
       "dtype: int64"
      ]
     },
     "execution_count": 6,
     "metadata": {},
     "output_type": "execute_result"
    }
   ],
   "source": [
    "data.isnull().sum()"
   ]
  },
  {
   "cell_type": "markdown",
   "id": "ae28eccc",
   "metadata": {},
   "source": [
    "# 4. Memperbaiki Missing Value (nan)\n"
   ]
  },
  {
   "cell_type": "markdown",
   "id": "3d6f0d97",
   "metadata": {},
   "source": [
    "# 4.1 Pembersihan Data Non-Numerik\n",
    "Metode yang saya gunakan untuk memperbaiki missing values pada data non-Numerik tersebut yaitu dengan metode imputasi most frequent atau modus. metode ini akan mengambil data yang muncul paling banyak pada dataset. Jika diilustrasikan, terdapat 3 buah data X,Y,Z dan jika yang paling banyak muncul adalah data Z maka data Z yang akan diimputasikan pada Missing Values."
   ]
  },
  {
   "cell_type": "markdown",
   "id": "8aaf8f99",
   "metadata": {},
   "source": [
    "Langkah pertama yaitu kita harus mencari most_frequent data dari atribut yang memiliki missing values"
   ]
  },
  {
   "cell_type": "code",
   "execution_count": 16,
   "id": "62930440",
   "metadata": {},
   "outputs": [],
   "source": [
    "most_frequent_Memory = data[\"Memory\"].mode()[0]"
   ]
  },
  {
   "cell_type": "code",
   "execution_count": 17,
   "id": "664e8aa6",
   "metadata": {},
   "outputs": [
    {
     "name": "stdout",
     "output_type": "stream",
     "text": [
      "4 GB\n"
     ]
    }
   ],
   "source": [
    "print (most_frequent_Memory)"
   ]
  },
  {
   "cell_type": "code",
   "execution_count": 18,
   "id": "0abd637b",
   "metadata": {},
   "outputs": [],
   "source": [
    "most_frequent_Storage = data[\"Storage\"].mode()[0]"
   ]
  },
  {
   "cell_type": "code",
   "execution_count": 19,
   "id": "227475c9",
   "metadata": {},
   "outputs": [
    {
     "name": "stdout",
     "output_type": "stream",
     "text": [
      "64 GB\n"
     ]
    }
   ],
   "source": [
    "print (most_frequent_Storage)"
   ]
  },
  {
   "cell_type": "markdown",
   "id": "02f291a7",
   "metadata": {},
   "source": [
    "Langkah Kedua, imputasikan data yang dihasilkan dari langkah pertama"
   ]
  },
  {
   "cell_type": "code",
   "execution_count": 24,
   "id": "c1b6aad0",
   "metadata": {},
   "outputs": [],
   "source": [
    "data[\"Memory\"] = data[\"Memory\"].fillna(most_frequent_Memory)"
   ]
  },
  {
   "cell_type": "code",
   "execution_count": 25,
   "id": "489dad9b",
   "metadata": {},
   "outputs": [
    {
     "data": {
      "text/plain": [
       "Brand               0\n",
       "Model               0\n",
       "Color               0\n",
       "Memory              0\n",
       "Storage            39\n",
       "Rating            144\n",
       "Selling Price       0\n",
       "Original Price      0\n",
       "dtype: int64"
      ]
     },
     "execution_count": 25,
     "metadata": {},
     "output_type": "execute_result"
    }
   ],
   "source": [
    "data.isnull().sum()"
   ]
  },
  {
   "cell_type": "code",
   "execution_count": 26,
   "id": "f4b7b744",
   "metadata": {},
   "outputs": [],
   "source": [
    "data[\"Storage\"] = data[\"Storage\"].fillna(most_frequent_Storage)"
   ]
  },
  {
   "cell_type": "code",
   "execution_count": 27,
   "id": "eaf2d35e",
   "metadata": {},
   "outputs": [
    {
     "data": {
      "text/plain": [
       "Brand               0\n",
       "Model               0\n",
       "Color               0\n",
       "Memory              0\n",
       "Storage             0\n",
       "Rating            144\n",
       "Selling Price       0\n",
       "Original Price      0\n",
       "dtype: int64"
      ]
     },
     "execution_count": 27,
     "metadata": {},
     "output_type": "execute_result"
    }
   ],
   "source": [
    "data.isnull().sum()"
   ]
  },
  {
   "cell_type": "markdown",
   "id": "7bad2661",
   "metadata": {},
   "source": [
    "# 4.2 Pembersihan Data Numerik\n",
    "Proses pembersihan data  pada data yang bersifat numerik, saya menggunakan metode imputasi dengan mean. Metode ini akan mengambil data dari rata-rata(mean) dari data pada atribut yang memiliki missing values yang mana nantinya akan diimputasikan pada data yang kosong pada atribut tersebut.    \n",
    "Data Numerik yang memiliki missing values pada dataset tersebut yaitu pada atribut Rating.\n"
   ]
  },
  {
   "cell_type": "code",
   "execution_count": 32,
   "id": "7ac9f09c",
   "metadata": {},
   "outputs": [],
   "source": [
    "from sklearn.impute import SimpleImputer\n",
    "imputer = SimpleImputer(strategy='mean')\n",
    "data['Rating'] = imputer.fit_transform(data[['Rating']])"
   ]
  },
  {
   "cell_type": "code",
   "execution_count": 33,
   "id": "75cfa903",
   "metadata": {},
   "outputs": [
    {
     "name": "stdout",
     "output_type": "stream",
     "text": [
      "        Brand   Model            Color Memory Storage  Rating  Selling Price  \\\n",
      "0        OPPO     A53  Moonlight Black   4 GB   64 GB     4.5          11990   \n",
      "1        OPPO     A53       Mint Cream   4 GB   64 GB     4.5          11990   \n",
      "2        OPPO     A53  Moonlight Black   6 GB  128 GB     4.3          13990   \n",
      "3        OPPO     A53       Mint Cream   6 GB  128 GB     4.3          13990   \n",
      "4        OPPO     A53   Electric Black   4 GB   64 GB     4.5          11990   \n",
      "...       ...     ...              ...    ...     ...     ...            ...   \n",
      "3109  SAMSUNG  M52 5G    Blazing Black   6 GB  128 GB     4.3          25990   \n",
      "3110  SAMSUNG  M52 5G         Icy Blue   6 GB  128 GB     4.3          25489   \n",
      "3111  SAMSUNG  M52 5G         Icy Blue   8 GB  128 GB     4.3          27239   \n",
      "3112  SAMSUNG  M52 5G      Slate Black   8 GB  128 GB     4.2          22989   \n",
      "3113  SAMSUNG  M52 5G         Sky Blue   8 GB  128 GB     4.2          20350   \n",
      "\n",
      "      Original Price  \n",
      "0              15990  \n",
      "1              15990  \n",
      "2              17990  \n",
      "3              17990  \n",
      "4              15990  \n",
      "...              ...  \n",
      "3109           25990  \n",
      "3110           28449  \n",
      "3111           31489  \n",
      "3112           22989  \n",
      "3113           22595  \n",
      "\n",
      "[3114 rows x 8 columns]\n"
     ]
    }
   ],
   "source": [
    "print (data)"
   ]
  },
  {
   "cell_type": "code",
   "execution_count": 34,
   "id": "f5a582c7",
   "metadata": {},
   "outputs": [
    {
     "data": {
      "text/plain": [
       "Brand             0\n",
       "Model             0\n",
       "Color             0\n",
       "Memory            0\n",
       "Storage           0\n",
       "Rating            0\n",
       "Selling Price     0\n",
       "Original Price    0\n",
       "dtype: int64"
      ]
     },
     "execution_count": 34,
     "metadata": {},
     "output_type": "execute_result"
    }
   ],
   "source": [
    "data.isnull().sum()"
   ]
  },
  {
   "cell_type": "markdown",
   "id": "f4cade3e",
   "metadata": {},
   "source": [
    "# 5. Encoding data kategori (Atribut)\n",
    "Proses encoding berguna untuk mengubah nilai kategori atau string menjadi nilai numerik agar dapat digunakan dalam analisis data atau model machine learning. "
   ]
  },
  {
   "cell_type": "markdown",
   "id": "1a2cf993",
   "metadata": {},
   "source": [
    "Pada kasus ini saya menggunakan teknik encoding One-Hot-Encoding yang mana berjalan dengan membuat variabel dummy baru untuk setiap nilai kategori unik dan mengisinya dengan 0 atau 1."
   ]
  },
  {
   "cell_type": "code",
   "execution_count": 35,
   "id": "dc983c36",
   "metadata": {},
   "outputs": [],
   "source": [
    "from sklearn.compose import ColumnTransformer\n",
    "from sklearn.preprocessing import OneHotEncoder\n",
    "ct = ColumnTransformer(transformers=[('encoder', OneHotEncoder(),[0])], remainder='passthrough')\n",
    "x = np.array(ct.fit_transform(x))"
   ]
  },
  {
   "cell_type": "code",
   "execution_count": 36,
   "id": "035eca2f",
   "metadata": {},
   "outputs": [
    {
     "name": "stdout",
     "output_type": "stream",
     "text": [
      "[[0.0 0.0 0.0 ... '64 GB' 4.5 11990]\n",
      " [0.0 0.0 0.0 ... '64 GB' 4.5 11990]\n",
      " [0.0 0.0 0.0 ... '128 GB' 4.3 13990]\n",
      " ...\n",
      " [0.0 0.0 0.0 ... '128 GB' 4.3 27239]\n",
      " [0.0 0.0 0.0 ... '128 GB' 4.2 22989]\n",
      " [0.0 0.0 0.0 ... '128 GB' 4.2 20350]]\n"
     ]
    }
   ],
   "source": [
    "print(x)"
   ]
  },
  {
   "cell_type": "markdown",
   "id": "aee4bcd1",
   "metadata": {},
   "source": [
    "# 6. Encoding data kategori (Class / Label) \n",
    "Pada bagian ini saya menggunakan teknik encoding LabelEncoder yang mana merupakan salah satu class yang dimiliki oleh library sklearn.preprocessing"
   ]
  },
  {
   "cell_type": "code",
   "execution_count": 37,
   "id": "5b150615",
   "metadata": {},
   "outputs": [],
   "source": [
    "from sklearn.preprocessing import LabelEncoder\n",
    "le = LabelEncoder()\n",
    "y = le.fit_transform(y)"
   ]
  },
  {
   "cell_type": "code",
   "execution_count": 38,
   "id": "e687bac4",
   "metadata": {},
   "outputs": [
    {
     "name": "stdout",
     "output_type": "stream",
     "text": [
      "[433 433 474 ... 623 547 544]\n"
     ]
    }
   ],
   "source": [
    "print (y)"
   ]
  },
  {
   "cell_type": "markdown",
   "id": "abada280",
   "metadata": {},
   "source": [
    "# 7. Membagi dataset ke dalam training set dan test set"
   ]
  },
  {
   "cell_type": "code",
   "execution_count": 39,
   "id": "18df631b",
   "metadata": {},
   "outputs": [],
   "source": [
    "from sklearn.model_selection import train_test_split\n",
    "x_train, x_test, y_train, y_test = train_test_split(x, y, test_size = 0.2, random_state = 1)"
   ]
  },
  {
   "cell_type": "code",
   "execution_count": 40,
   "id": "8c59cd0f",
   "metadata": {},
   "outputs": [
    {
     "name": "stdout",
     "output_type": "stream",
     "text": [
      "[[0.0 0.0 0.0 ... '64 GB' 4.4 19990]\n",
      " [0.0 0.0 0.0 ... '32 GB' 4.4 7199]\n",
      " [0.0 0.0 0.0 ... '64 GB' 4.4 32990]\n",
      " ...\n",
      " [0.0 0.0 0.0 ... '64 GB' 4.3 18599]\n",
      " [0.0 0.0 0.0 ... '64 GB' 4.3 18990]\n",
      " [0.0 0.0 0.0 ... '16 GB' 4.1 7139]]\n"
     ]
    }
   ],
   "source": [
    "print(x_train)"
   ]
  },
  {
   "cell_type": "code",
   "execution_count": 41,
   "id": "920e96e9",
   "metadata": {},
   "outputs": [
    {
     "name": "stdout",
     "output_type": "stream",
     "text": [
      "[[0.0 0.0 0.0 ... '64 GB' 4.5 9999]\n",
      " [0.0 0.0 0.0 ... '32 GB' 4.2 8299]\n",
      " [0.0 0.0 0.0 ... '32 GB' 4.4 14995]\n",
      " ...\n",
      " [0.0 0.0 0.0 ... '128 GB' 4.6 53990]\n",
      " [0.0 0.0 0.0 ... '16 GB' 4.3 8990]\n",
      " [0.0 0.0 0.0 ... '8 GB' 3.9 7999]]\n"
     ]
    }
   ],
   "source": [
    "print(x_test)"
   ]
  },
  {
   "cell_type": "markdown",
   "id": "d772e886",
   "metadata": {},
   "source": [
    "# 8. Feature Scaling"
   ]
  },
  {
   "cell_type": "code",
   "execution_count": 79,
   "id": "c3a6e482",
   "metadata": {},
   "outputs": [],
   "source": [
    "from sklearn.preprocessing import StandardScaler\n",
    "sc = StandardScaler()\n",
    "scaled_x_train = sc.fit_transform(x_train[:, :6])\n",
    "scaled_x_test = sc.transform(x_test[:, :6])"
   ]
  },
  {
   "cell_type": "code",
   "execution_count": 80,
   "id": "52a57380",
   "metadata": {},
   "outputs": [
    {
     "name": "stdout",
     "output_type": "stream",
     "text": [
      "[[-0.20236793 -0.37770432 -0.20873269 -0.09653645 -0.13716379 -0.04484711]\n",
      " [-0.20236793 -0.37770432 -0.20873269 -0.09653645 -0.13716379 -0.04484711]\n",
      " [-0.20236793 -0.37770432 -0.20873269 -0.09653645 -0.13716379 -0.04484711]\n",
      " ...\n",
      " [-0.20236793 -0.37770432 -0.20873269 -0.09653645 -0.13716379 -0.04484711]\n",
      " [-0.20236793 -0.37770432 -0.20873269 -0.09653645 -0.13716379 -0.04484711]\n",
      " [-0.20236793 -0.37770432 -0.20873269 -0.09653645 -0.13716379 -0.04484711]]\n"
     ]
    }
   ],
   "source": [
    "print (scaled_x_train)"
   ]
  },
  {
   "cell_type": "code",
   "execution_count": 81,
   "id": "d2fe5833",
   "metadata": {},
   "outputs": [
    {
     "name": "stdout",
     "output_type": "stream",
     "text": [
      "[[-0.20236793 -0.37770432 -0.20873269 -0.09653645 -0.13716379 -0.04484711]\n",
      " [-0.20236793 -0.37770432 -0.20873269 -0.09653645 -0.13716379 -0.04484711]\n",
      " [-0.20236793 -0.37770432 -0.20873269 -0.09653645 -0.13716379 -0.04484711]\n",
      " ...\n",
      " [-0.20236793 -0.37770432 -0.20873269 -0.09653645  7.29055375 -0.04484711]\n",
      " [-0.20236793 -0.37770432 -0.20873269 -0.09653645 -0.13716379 -0.04484711]\n",
      " [-0.20236793 -0.37770432 -0.20873269 -0.09653645  7.29055375 -0.04484711]]\n"
     ]
    }
   ],
   "source": [
    "print (scaled_x_test)"
   ]
  }
 ],
 "metadata": {
  "kernelspec": {
   "display_name": "Python 3 (ipykernel)",
   "language": "python",
   "name": "python3"
  },
  "language_info": {
   "codemirror_mode": {
    "name": "ipython",
    "version": 3
   },
   "file_extension": ".py",
   "mimetype": "text/x-python",
   "name": "python",
   "nbconvert_exporter": "python",
   "pygments_lexer": "ipython3",
   "version": "3.9.13"
  }
 },
 "nbformat": 4,
 "nbformat_minor": 5
}
